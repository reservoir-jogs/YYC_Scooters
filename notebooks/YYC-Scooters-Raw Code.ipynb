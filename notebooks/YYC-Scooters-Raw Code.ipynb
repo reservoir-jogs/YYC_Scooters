{
 "cells": [
  {
   "cell_type": "code",
   "execution_count": null,
   "metadata": {},
   "outputs": [],
   "source": [
    "# from IPython.display import HTML\n",
    "\n",
    "# # Toggle butten to hide the code from the notebook\n",
    "# HTML('''<script>\n",
    "# code_show=true; \n",
    "# function code_toggle() {\n",
    "#  if (code_show){\n",
    "#  $('div.input').hide();\n",
    "#  } else {\n",
    "#  $('div.input').show();\n",
    "#  }\n",
    "#  code_show = !code_show\n",
    "# } \n",
    "# $( document ).ready(code_toggle);\n",
    "# </script>\n",
    "# <form action=\"javascript:code_toggle()\"><input type=\"submit\" value=\"Click here to toggle on/off the raw code.\"></form>''')\n"
   ]
  },
  {
   "cell_type": "markdown",
   "metadata": {},
   "source": [
    "# Calgary Shared Mobility Pilot Trips Analysis"
   ]
  },
  {
   "cell_type": "code",
   "execution_count": null,
   "metadata": {},
   "outputs": [],
   "source": [
    "import pandas as pd\n",
    "import numpy as np\n",
    "import plotly\n",
    "import plotly.express as px\n",
    "import plotly.graph_objects as go\n",
    "import datetime as dt\n",
    "from pathlib import Path\n",
    "import os\n",
    "import pandas as pd\n",
    "import numpy as np\n",
    "from sklearn.preprocessing import StandardScaler\n",
    "from sklearn.decomposition import PCA\n",
    "import seaborn as sns\n",
    "from matplotlib import pyplot as plt\n",
    "%matplotlib inline\n",
    "\n",
    "\n",
    "\n",
    "import warnings\n",
    "warnings.filterwarnings('ignore')"
   ]
  },
  {
   "cell_type": "markdown",
   "metadata": {},
   "source": [
    "## Intro\n",
    "\n",
    "The city of Calgary has been operating a shared e-bike and e-scooter pilot program from October 31, 2018 to October 31, 2019. \n",
    "\n",
    "Approximately 500 docless electric bycicles, probided by **Lime** have been available since October 31, 2018 with 168,000 trips taken and 210,000kms traveled between then and September 30, 2019. \n",
    "\n",
    "Electric scooters (e-scooters) were first made available on July 12, 2019 and were availabie until October 31, 2019. (source TT2019-1374) Both **Lime** and **Bird** operated scooter rentals. \n",
    "\n",
    "Rental data for July 1 to September 30, 2019 was made available through the City of Calgary's open data portal: https://data.calgary.ca/Transportation-Transit/Shared-Mobility-Pilot-Trips/jicz-mxiz\n",
    "\n",
    "Like you probably do, I had questions:|\n",
    "\n",
    "* How popular are the bikes/scooters?\n",
    "* Where are doing with them? i.e. Where are they going? How far/how long are the trips?\n",
    "* Can we guess how much money has been spent on the scooters/bikes?\n",
    "* How does the weather impact rental count?\n",
    "* Using the data, can we a few archetypes of particular scooter users that explain how different people are using them?\n",
    "\n",
    "Let's take a look at the data to find out!"
   ]
  },
  {
   "cell_type": "markdown",
   "metadata": {},
   "source": [
    "## The Data\n",
    "\n",
    "The City of Calagary provided data from 482k trips (ok actually 482,021!). All trips occured between July 1 and September 30, 2019.\n",
    "\n",
    "Data available included:\n",
    "\n",
    "* Vehicle Type: e-scooter or e-bike\n",
    "* Start Date: The day of the trip\n",
    "* Start Hour: Hour the trip was started in 24-hour clock (e.g., 13 is 1:00 pm-1:59 pm, 17 is 5:00 pm-5:59 pm)\n",
    "* Trip Distance in m\n",
    "* Trip Duration in s\n",
    "* Lat/Lon of where the trip started and ended (This was within a 10,000$m^2$ hexagon to anonymize the data)\n",
    "\n",
    "Some of the other columns are somewhat redundent, but helpful for analysis, like naming the hexagon or providing the day of the week etc. \n",
    "\n",
    "Weather data was obtained from Enviromoment Canada's website:  https://climate.weather.gc.ca/\n",
    "\n",
    "The temperature ($^{\\circ}C$), wind speed (*km/h*) and weather (Sunny, raining etc) were available for every hour. \n",
    "\n"
   ]
  },
  {
   "cell_type": "markdown",
   "metadata": {},
   "source": [
    "## Cleaning\n",
    "\n",
    "Before starting, I first cleaned up the data to make it easier for analysis. Main things were linking the weather data to the scooter data. I also calculated some metrics like speed, aerial distance etc. that will be explained in a bit more detail later. Analysis starts from the cleaned data table.\n",
    "\n",
    "Below is a sample of the final table:\n"
   ]
  },
  {
   "cell_type": "code",
   "execution_count": null,
   "metadata": {},
   "outputs": [],
   "source": [
    "# Read in pre-formatted dataset\n",
    "project_dir = Path().resolve().parents[0]\n",
    "file_name = os.path.join(project_dir, 'data', 'final', 'all_data.csv')\n",
    "all_trips = pd.read_csv(file_name)\n",
    "all_trips.datetime = pd.to_datetime(all_trips.datetime)\n",
    "all_trips.start_date = pd.to_datetime(all_trips.start_date)\n",
    "all_trips.head()"
   ]
  },
  {
   "cell_type": "markdown",
   "metadata": {},
   "source": [
    "Also, a quick look at some summary statistics for the dataset:"
   ]
  },
  {
   "cell_type": "code",
   "execution_count": null,
   "metadata": {},
   "outputs": [],
   "source": [
    "all_trips[['trip_distance', 'trip_duration']].describe()"
   ]
  },
  {
   "cell_type": "markdown",
   "metadata": {},
   "source": [
    "So the average trip is about 1.8kms and took 12min 51s. That said there are probably lots of long trips bringing up the average; the maximum trip was 56.6kms long!\n",
    "\n",
    "The median is probably a better measure of typical use. Half of all trips were < 1.3kms and about 8min 20s.\n",
    "\n",
    "The difference between bicycle trips and scooter trips doesn't appear to be appreciable. *note: for efficiency violin plots are built on a random sample of rides*"
   ]
  },
  {
   "cell_type": "code",
   "execution_count": null,
   "metadata": {},
   "outputs": [],
   "source": [
    "sample = all_trips.sample(frac=0.05) # 420k datapoints runs too slow\n",
    "\n",
    "violin_fig1=px.violin(sample, x='vehicle_type', y='trip_distance', box=True, points=\"outliers\",\n",
    "          labels={'vehicle_type':'Vehicle', \"trip_distance\": \"Trip Distance (m)\"},\n",
    "          title='Sample Distribution of Trip Distances for Bikes and Scooters')\n",
    "violin_fig1.show()"
   ]
  },
  {
   "cell_type": "code",
   "execution_count": null,
   "metadata": {},
   "outputs": [],
   "source": [
    "violin_fig2=px.violin(sample, x='vehicle_type', y='trip_duration', box=True, points=\"outliers\",          \n",
    "          labels={'vehicle_type':'Vehicle', \"trip_duration\": \"Trip Duration (s)\"},\n",
    "          title='Sample Distribution of Trip Durations for Bikes and Scooters')\n",
    "violin_fig2.show()"
   ]
  },
  {
   "cell_type": "markdown",
   "metadata": {},
   "source": [
    "## Total Rentals\n",
    "\n",
    "Before we get too caried away, let's see how many rentals per day over the time period:"
   ]
  },
  {
   "cell_type": "code",
   "execution_count": null,
   "metadata": {},
   "outputs": [],
   "source": [
    "line_fig1 = px.line(all_trips.groupby(['start_date','vehicle_type']).count().reset_index(), \n",
    "               x=\"start_date\", y='a_dist', color='vehicle_type', \n",
    "               labels={'a_dist':'Number of Rentals/Day', 'start_date': 'Date', 'vehicle_type': 'Vehicle'},\n",
    "               title = \" Number of Vehicle Rentals per Day over Trial Period\")\n",
    "line_fig1.show()"
   ]
  },
  {
   "cell_type": "markdown",
   "metadata": {},
   "source": [
    "### A few things stand out: \n",
    "\n",
    "* There were a few scooter rentals before the official launch date of July 12th, maybe some testing or limited rentals.\n",
    "\n",
    "* There's a big jump in rentals towards the end of July. It's worth noting that Lime had 1000 scooters, starting July 12th (don't know if they were all available right away or if they added more), but Bird started operating their fleet of 500 scooters on July 26th.\n",
    "\n",
    "### E-Bikes are so 2018!\n",
    "\n",
    "* Bikes were decidedly less popular. Removing scooters, it is more clear in the above chart that the bike rentals dropped off from around 400/day to 150/day\n",
    "* Worth noting that e-bikes will not be back for summer 2020: https://calgaryherald.com/news/lime-says-bye-bye-to-bikes-in-calgary-will-bring-back-e-scooters. Not surprizing looking at the data."
   ]
  },
  {
   "cell_type": "code",
   "execution_count": null,
   "metadata": {},
   "outputs": [],
   "source": [
    "line_fig2 = px.line(all_trips[all_trips['vehicle_type'] == 'bicycle'].groupby(['start_date','vehicle_type']).count().reset_index(), \n",
    "               x=\"start_date\", y='a_dist', color='vehicle_type', \n",
    "               labels={'a_dist':'Number of Rentals/Day', 'start_date': 'Date', 'vehicle_type': 'Vehicle'},\n",
    "               title = \" Number of Vehicle Rentals per Day over Trial Period\")\n",
    "line_fig2.show()"
   ]
  },
  {
   "cell_type": "markdown",
   "metadata": {
    "slideshow": {
     "slide_type": "slide"
    }
   },
   "source": [
    "Because of this, I'm just going to focus on e-scooters for the remaining analysis.\n",
    "\n",
    "## How are People Using the Scooters?\n",
    "\n",
    "Initially, I wanted to investigate what usage looks like for the scooters. We expect intuatively that there will be some periodicity to the rental patterns. For instance, there's probably less rentals in the middle of the night than during the day. \n",
    "\n",
    "The following interactive plot shows the rentals per hour, over the entire trial period. Use the selectors to pick a time interval, and the slider to move the date range:"
   ]
  },
  {
   "cell_type": "code",
   "execution_count": null,
   "metadata": {},
   "outputs": [],
   "source": [
    "# Just pick Scooters\n",
    "scooter = all_trips[all_trips['vehicle_type'] == 'scooter']"
   ]
  },
  {
   "cell_type": "code",
   "execution_count": null,
   "metadata": {},
   "outputs": [],
   "source": [
    "scooter2 = scooter.groupby(['datetime']).count().reset_index()\n",
    "\n",
    "\n",
    "fig3 = go.Figure()\n",
    "fig3.add_trace(go.Scatter(x=scooter2['datetime'],\n",
    "                         y=scooter2['a_dist'].values.tolist(), \n",
    "               mode = 'lines',\n",
    "               opacity = 1,\n",
    "#                line = dict(color = '#17BECF'),\n",
    "               name = 'Scooter Rentals'))\n",
    "    \n",
    "# Set title\n",
    "fig3.update_layout(\n",
    "    title_text=\"Number of Scooter Rentals per Hour\",\n",
    "    xaxis = dict(title = 'Date'),\n",
    "    yaxis = dict(title = 'Rentals/hr')) \n",
    "\n",
    "# Add range slider\n",
    "fig3.update_layout(\n",
    "    xaxis=go.layout.XAxis(\n",
    "        rangeselector=dict(\n",
    "            buttons=list([              \n",
    "                dict(count=1,\n",
    "                     label=\"1d\",\n",
    "                     step=\"day\",\n",
    "                     stepmode=\"todate\"),\n",
    "                dict(count=2,\n",
    "                     label=\"2d\",\n",
    "                     step=\"day\",\n",
    "                     stepmode=\"todate\"),\n",
    "                dict(count=7,\n",
    "                     label=\"7d\",\n",
    "                     step=\"day\",\n",
    "                     stepmode=\"todate\"),\n",
    "                dict(count=14,\n",
    "                     label=\"14d\",\n",
    "                     step=\"day\",\n",
    "                     stepmode=\"todate\"),\n",
    "                dict(count=1,\n",
    "                     label=\"1m\",\n",
    "                     step=\"month\",\n",
    "                     stepmode=\"todate\"),\n",
    "                dict(count=2,\n",
    "                     label=\"2m\",\n",
    "                     step=\"month\",\n",
    "                     stepmode=\"todate\"),\n",
    "                dict(step=\"all\")\n",
    "            ])\n",
    "        ),\n",
    "        rangeslider=dict(\n",
    "            visible=True\n",
    "        ),\n",
    "        type=\"date\"\n",
    "    )\n",
    ")\n",
    "\n",
    "fig3.show()"
   ]
  },
  {
   "cell_type": "markdown",
   "metadata": {},
   "source": [
    "Seems like most rentals occur during the middle of the day. There's a mini spike around 8AM on weekdays, likely corresponding to rides to work. The most rides seem to be towards the afternoon, early evening.\n",
    "\n",
    "If you scroll around, the most rentals was on September 21 at 7-8pm. Not sure what was going on. Possibly the \"Stampede Shindig\" at Heritage park? https://dailyhive.com/calgary/calgary-events-september-20-22-2019 Let's check a map:\n",
    "\n"
   ]
  },
  {
   "cell_type": "code",
   "execution_count": null,
   "metadata": {},
   "outputs": [],
   "source": [
    "print('Top hour for rentals was: ', str(scooter2.loc[scooter2.vehicle_type.idxmax()][0])[:10])"
   ]
  },
  {
   "cell_type": "code",
   "execution_count": null,
   "metadata": {
    "scrolled": false
   },
   "outputs": [],
   "source": [
    "# Set Mapbox Token\n",
    "px.set_mapbox_access_token(open(f\"{project_dir}\\\\data\\\\raw\\\\mapbox.token\").read())\n",
    "\n",
    "peak_scooter = scooter[scooter['datetime'] == dt.datetime(2019,9,21,17)]\n",
    "\n",
    "map1 = px.scatter_mapbox(peak_scooter, lat=\"endy\", lon=\"endx\", width=800, height=800, zoom=11, \n",
    "                         labels={'endy': \"End Point Longitude\", 'endx': \"End Point Latitude\"},\n",
    "                         center = {'lat':50.98263, 'lon':-114.10210}, title='Rentals on Sept. 9, 2019: 7-8pm')\n",
    "map1.show()\n"
   ]
  },
  {
   "cell_type": "markdown",
   "metadata": {},
   "source": [
    "Not a single scooter terminated at Heritage Park (Map should have centered on location)\n",
    "\n",
    "They seem to mostly be situated Downtown, so my guess is people going to/from Beakerhead Fesival, which was also that weekend. https://www.visitcalgary.com/things-to-do/festivals/beakerhead. **Highly speculative**\n",
    "\n",
    "Worth noting it was a nice night:"
   ]
  },
  {
   "cell_type": "code",
   "execution_count": null,
   "metadata": {},
   "outputs": [],
   "source": [
    "peak_scooter[['datetime','Temp (°C)', 'Wind Spd (km/h)', 'Weather' ]].head(1)"
   ]
  },
  {
   "cell_type": "markdown",
   "metadata": {},
   "source": [
    "## Rentals by Hour\n",
    "\n",
    "Exploring the cyclical nature of the rentals some more; let's check if there are any interesting patters in rentals based on time of day and if it was a weekend/weekday/holiday.\n",
    "\n",
    "The following plot shows average rentals per hour over the dataset for the different days."
   ]
  },
  {
   "cell_type": "code",
   "execution_count": null,
   "metadata": {},
   "outputs": [],
   "source": [
    "# Format avg rentals/hr for weekend, holiday and weekdays\n",
    "weekend_by_hour = scooter[scooter['is_weekend'] == 1].groupby('start_hour').count().reset_index().iloc[:,0:2]\n",
    "holiday_by_hour = scooter[scooter['is_holiday'] == 1].groupby('start_hour').count().reset_index().iloc[:,0:2]\n",
    "weekday_by_hour = scooter[(scooter['is_holiday'] == 0) & \n",
    "                          (scooter['is_weekend'] == 0)].groupby('start_hour').count().reset_index().iloc[:,0:2]\n",
    "\n",
    "num_weekends = len(scooter[scooter['is_weekend'] == 1].groupby('start_date').count())\n",
    "num_holidays = len(scooter[scooter['is_holiday'] == 1].groupby('start_date').count())\n",
    "num_weekdays = len(scooter[(scooter['is_holiday'] == 0) & (scooter['is_weekend'] == 0)].groupby('start_date').count())\n",
    "weekday_by_hour['name'] = \"Weekday\"\n",
    "holiday_by_hour['name'] = \"Holiday\"\n",
    "weekend_by_hour['name'] = \"Weekend\"\n",
    "weekday_by_hour['vehicle_type'] = weekday_by_hour['vehicle_type'] / num_weekdays\n",
    "holiday_by_hour['vehicle_type'] = holiday_by_hour['vehicle_type'] / num_holidays\n",
    "weekend_by_hour['vehicle_type'] = weekend_by_hour['vehicle_type'] / num_weekends\n",
    "by_hour = weekday_by_hour.append([holiday_by_hour, weekend_by_hour])\n",
    "\n",
    "line_fig4 = px.line(by_hour, x='start_hour', y='vehicle_type', color = 'name',\n",
    "                    title='Scooter Rentals per Hour Based on Day Type',\n",
    "                    labels={'name': 'Day Type', 'vehicle_type': 'Avg. Scooter Rentals/hr', 'start_hour': 'Time of Day'}\n",
    "                    )\n",
    "line_fig4.show()"
   ]
  },
  {
   "cell_type": "markdown",
   "metadata": {},
   "source": [
    "I think the most interesting observations from this plot are:\n",
    "\n",
    "* The little spike in rentals around the morning rush hour, but only on weekdays\n",
    "* The increased rentals between midinght and 4am on weekends and holidays. More on this below."
   ]
  },
  {
   "cell_type": "markdown",
   "metadata": {},
   "source": [
    "## Rentals by Time of Day and Day of Week\n",
    "\n",
    "A heat map expands on the prior consept of time of the week impacting rentals. On weekdays we see more rentals arond 8-9am vs on the weekends. We also see more rentals late night on Friday and Saturday evenings. I'm sure no one was \"scooting\" home from the bar..."
   ]
  },
  {
   "cell_type": "code",
   "execution_count": null,
   "metadata": {},
   "outputs": [],
   "source": [
    "week_order = {'start_day':['Monday','Tuesday', 'Wednesday', 'Thursday', 'Friday', 'Saturday', 'Sunday']}\n",
    "px.density_heatmap(scooter, x='start_day', y='start_hour', category_orders=week_order, \n",
    "                   color_continuous_scale = 'plotly3', title='Rentals Based on Time of Day and Day of Week',\n",
    "                   labels={'start_day':'Day of Week', 'start_hour':'Hour of Day'},\n",
    "                   width=800, height=600)"
   ]
  },
  {
   "cell_type": "markdown",
   "metadata": {},
   "source": [
    "## Where are Trips Originating and Ending\n",
    "\n",
    "We can view the starting and ending coordinates from each scooter rental. \n",
    "\n",
    "While the scooters start throughout most of the entire city, the rentals are definitely concentrated downtown."
   ]
  },
  {
   "cell_type": "code",
   "execution_count": null,
   "metadata": {},
   "outputs": [],
   "source": [
    "# Plot starting point for all scooter trips\n",
    "grid_count = scooter.groupby('starting_grid_id').count().reset_index().iloc[:,0:2]\n",
    "grid_count.columns = ['starting_grid_id', 'rental_count']\n",
    "grid_loc= scooter.groupby('starting_grid_id').mean().reset_index()[['starting_grid_id','startx', \n",
    "                                                                    'starty','endx', 'endy',\n",
    "                                                                    'trip_duration', 'trip_distance']]\n",
    "grid_count = grid_count.merge(right=grid_loc, on='starting_grid_id')\n",
    "\n",
    "\n",
    "px.scatter_mapbox(grid_count, lat='starty', lon='startx', color='rental_count',\n",
    "                  zoom=9,  color_continuous_scale = 'plotly3',mapbox_style='dark',\n",
    "                  width=800, height=800, title = 'All Trips: Originating Location',\n",
    "                  labels = {'rental_count':'Total Rentals', 'starty': \"Starting Longitude\", \n",
    "                            'startx': \"Starting Latitude\"}\n",
    "                  )"
   ]
  },
  {
   "cell_type": "code",
   "execution_count": null,
   "metadata": {},
   "outputs": [],
   "source": [
    "px.scatter_mapbox(grid_count, lat='endy', lon='endx', color='rental_count',\n",
    "                  zoom=9,  color_continuous_scale = 'plotly3',mapbox_style='dark',\n",
    "                  width=800, height=800, title = 'All Trips: Finishing Location',\n",
    "                  labels = {'rental_count':'Total Rentals', 'endy': \"Ending Longitude\", \n",
    "                            'endx': \"Ending Latitude\"}\n",
    "                  )"
   ]
  },
  {
   "cell_type": "markdown",
   "metadata": {},
   "source": [
    "## Starting Location vs Date\n",
    "\n",
    "The following animation shows where trips are originating over the entire trial period. The odd scooter makes its way out of the core, but ultimately that's where most rentals are originating from."
   ]
  },
  {
   "cell_type": "code",
   "execution_count": null,
   "metadata": {},
   "outputs": [],
   "source": [
    "grid_date = scooter.groupby(['start_date','starting_grid_id']).count().reset_index().iloc[:,0:3]\n",
    "grid_loc = scooter.groupby(['start_date','starting_grid_id']).mean().reset_index()[['start_date', 'starting_grid_id',\n",
    "                                                                                    'startx', 'starty',\n",
    "                                                                                    'endx', 'endy',\n",
    "                                                                                    'trip_duration', 'trip_distance']]\n",
    "grid_date = grid_date.merge(grid_loc, on=['start_date', 'starting_grid_id'])\n",
    "grid_date.columns = ['start_date', 'starting_grid_id', 'rental_count', 'startx', 'starty', 'endx', 'endy',\n",
    "                    'trip_duration', 'trip_distance']\n",
    "grid_date['start_date'] = grid_date['start_date'].apply(lambda x: x.strftime(\"%d-%b-%Y\"))\n",
    "\n",
    "px.scatter_mapbox(grid_date, lat='starty', lon='startx', color='rental_count',\n",
    "                  zoom=9,  color_continuous_scale = 'plotly3',mapbox_style='dark',\n",
    "                  width=800, height=800, title = 'All Trips: Originating Location by Date',\n",
    "                  labels = {'rental_count':'Total Rentals', 'starty': \"Starting Longitude\", \n",
    "                            'startx': \"Starting Latitude\", 'start_date':'Date',\n",
    "                            'trip_duration': \"Trip Time (s)\", 'trip_distance': 'Trip Distance (m)'},\n",
    "                  hover_data=['trip_duration', 'trip_distance'],\n",
    "                  animation_frame = 'start_date'\n",
    "                  )"
   ]
  },
  {
   "cell_type": "code",
   "execution_count": null,
   "metadata": {},
   "outputs": [],
   "source": [
    "px.scatter_mapbox(grid_date, lat='endy', lon='endx', color='rental_count',\n",
    "                  zoom=9,  color_continuous_scale = 'plotly3',mapbox_style='dark',\n",
    "                  width=800, height=800, title = 'All Trips: Final Location by Date',\n",
    "                  labels = {'rental_count':'Total Rentals', 'starty': \"Ending Longitude\", \n",
    "                            'startx': \"Ending Latitude\", 'start_date':'Date',\n",
    "                            'trip_duration': \"Trip Time (s)\", 'trip_distance': 'Trip Distance (m)'},\n",
    "                  animation_frame = 'start_date',\n",
    "                  hover_data=['trip_duration', 'trip_distance'],\n",
    "                  )"
   ]
  },
  {
   "cell_type": "markdown",
   "metadata": {},
   "source": [
    "## Is This a Viable Business?\n",
    "\n",
    "Another question that I had was how much money could the scooters possibly be making. While I don't have any insites into the business model, we can at least guess how much revenue is generated by the scooters.\n",
    "\n",
    "Info on pricing wasn't availaboe on Lime's webiste, but I found an article at: https://dailyhive.com/calgary/lime-scooters-calgary-how-to-guide-2019 that mentions \\\\$1 for the first min and \\\\$0.30 thereafter. Further analysis assumes that all trips followed this cost model and that all trips were paid in full i.e. no discounts or promotions. This isn't going to be accurate but it's about the best I can do."
   ]
  },
  {
   "cell_type": "code",
   "execution_count": null,
   "metadata": {},
   "outputs": [],
   "source": [
    "def scooter_revenue(trip_time):\n",
    "    \"\"\"Calculates scooter revenue ($) as a function of trip time assuming $1 to start and \n",
    "    $0.30/min thereafter\"\"\"\n",
    "    return 0.3*trip_time//60 + 1"
   ]
  },
  {
   "cell_type": "code",
   "execution_count": null,
   "metadata": {},
   "outputs": [],
   "source": [
    "# Calc revenue for all scooter trips\n",
    "scooter['trip_cost'] = scooter['trip_duration'].apply(scooter_revenue).values"
   ]
  },
  {
   "cell_type": "code",
   "execution_count": null,
   "metadata": {},
   "outputs": [],
   "source": [
    "hist_fig1 = px.histogram(scooter.sample(frac=0.05), x='trip_cost', histnorm='probability', marginal = 'box',\n",
    "             title='Sample Distribution of Cost of Scooter Rentals (Fraction of Rentals)', \n",
    "             labels={'count': 'Percent of Total Rentals', 'trip_cost':'Total Cost of Trip ($)'})\n",
    "hist_fig1.show()"
   ]
  },
  {
   "cell_type": "markdown",
   "metadata": {},
   "source": [
    "Summary Statistics for Trip Cost"
   ]
  },
  {
   "cell_type": "code",
   "execution_count": null,
   "metadata": {},
   "outputs": [],
   "source": [
    "print(scooter.trip_cost.describe())"
   ]
  },
  {
   "cell_type": "markdown",
   "metadata": {},
   "source": [
    "Total Projected Revenue:"
   ]
  },
  {
   "cell_type": "code",
   "execution_count": null,
   "metadata": {},
   "outputs": [],
   "source": [
    "print(scooter.trip_cost.sum())"
   ]
  },
  {
   "cell_type": "markdown",
   "metadata": {},
   "source": [
    "Probably as expected, the distribution of trip cost is right skewed with a median trip cost of about \\\\$3/trip and a mean cost of \\\\$4.37/trip.\n",
    "\n",
    "Total estimated revenue was \\\\$2,030,640 over a 3 month period! And as we saw above, they weren't even fully operational over those three months. I have no insites into the business model, but that's a lot more than I was expecting. I wonder if someone actually paid \\\\$48 for a scooter trip!"
   ]
  },
  {
   "cell_type": "markdown",
   "metadata": {},
   "source": [
    "## Weather Impacts"
   ]
  },
  {
   "cell_type": "markdown",
   "metadata": {},
   "source": [
    "One previously stated goal was to study the impact of weather on scooter rentals. It seems intuative that the weather should impact the number of scooters rented; you could probably predict rentals pretty well just by using the time of day and day of the week. (An exercise for future work)\n",
    "\n",
    "The first chart shows the total fraction of rentals from the entire dataset. Blue is the total number of scooter rentals and red is the fraction of 'hours' that showed that weather type.\n",
    "\n",
    "For instance, 43% of the time in the dataset it was clear, but 47% of scooters were rented when it was clear. Conversly 10% of the time it rained, but only 8% of rentals happend when raining. \n",
    "\n",
    "It didn't snow much over the trial period, but there were very few rentals when it did snow. Worth confirming, but it's possible that the scooters were actually removed from operation when it snowed in September.\n"
   ]
  },
  {
   "cell_type": "code",
   "execution_count": null,
   "metadata": {},
   "outputs": [],
   "source": [
    "scooter_count = scooter.groupby('Weather').count().reset_index().iloc[:,0:2]\n",
    "scooter_count.columns = ['Weather', 'Rentals']\n",
    "weather_count = scooter[['datetime','Weather']].drop_duplicates().groupby('Weather').count().reset_index()\n",
    "weather_count.columns = ['Weather', 'Hours']\n",
    "total_count = weather_count.merge(scooter_count, on=\"Weather\")\n",
    "total_count['Hours']  = total_count['Hours'] / total_count['Hours'].sum()\n",
    "total_count['Rentals']  = total_count['Rentals'] / total_count['Rentals'].sum()\n",
    "total_count = total_count.melt(id_vars = 'Weather', value_name = 'Percentage of Total', var_name = 'Category')\n",
    "\n",
    "# Percentage of renatals with that weather vs percentage of hours with that value\n",
    "px.bar(total_count, x = 'Weather', y ='Percentage of Total', color = 'Category', barmode = 'group', opacity=1,\n",
    "       title='Rentals vs Weather')"
   ]
  },
  {
   "cell_type": "markdown",
   "metadata": {},
   "source": [
    "Comparing temperature to number of rentals, it looks like there are more rentals when it's warmer, but the data also clusters around time of day. i.e. it doesn't matter if it's 20$^{\\circ}C$ at midnight, there won't be many rentals."
   ]
  },
  {
   "cell_type": "code",
   "execution_count": null,
   "metadata": {},
   "outputs": [],
   "source": [
    "temperature_df = scooter.groupby('datetime').mean().reset_index()[['datetime', 'Temp (°C)',\n",
    "                                                                   'Wind Spd (km/h)', 'start_hour']]\n",
    "rentals_per_hr = scooter.groupby('datetime').count().reset_index().iloc[:,0:2]\n",
    "rentals_per_hr.columns = ['datetime', 'count']\n",
    "rentals_per_hr = rentals_per_hr.merge(temperature_df, on='datetime')\n",
    "rentals_per_hr.datetime = rentals_per_hr.datetime.apply(lambda x: x.strftime(\"%d-%b-%Y\"))\n",
    "px.scatter(rentals_per_hr, y='count', x='Temp (°C)', color='start_hour', color_continuous_scale = 'plotly3',\n",
    "           hover_data = {'datetime'}, labels={'datetime':'Date'})"
   ]
  },
  {
   "cell_type": "markdown",
   "metadata": {},
   "source": [
    "A more interesting plot shows just the rentals vs temperature at 4pm. Here there' is more of a positive trend."
   ]
  },
  {
   "cell_type": "code",
   "execution_count": null,
   "metadata": {
    "scrolled": true
   },
   "outputs": [],
   "source": [
    "px.scatter(rentals_per_hr[rentals_per_hr.start_hour == 16], y='count', x='Temp (°C)',\n",
    "           hover_data = {'datetime'}, labels={'datetime':'Date'})"
   ]
  },
  {
   "cell_type": "markdown",
   "metadata": {},
   "source": [
    "8am however looks more like random scatter. You probably don't care about temperature when deciding if you're riding a scooter to work. Note: Weekends aren't broken out here."
   ]
  },
  {
   "cell_type": "code",
   "execution_count": null,
   "metadata": {},
   "outputs": [],
   "source": [
    "px.scatter(rentals_per_hr[rentals_per_hr.start_hour == 8], y='count', x='Temp (°C)',\n",
    "           hover_data = {'datetime'}, labels={'datetime':'Date'})"
   ]
  },
  {
   "cell_type": "markdown",
   "metadata": {},
   "source": [
    "Weather impact on rentals, superficially looks as expected: More rentals when it's nice, and less when it's not. Don't expect the scooters to operate over the winter. More analysis could be done to actually quantify the weather impact on rentals. "
   ]
  },
  {
   "cell_type": "markdown",
   "metadata": {},
   "source": [
    "## Rider Types\n",
    "\n",
    "The last thing I wanted to do was investigate if I could, at a high level, attempt to classify the types of rides that are happening on the scooters. \n",
    "\n",
    "I personally witnessed lots of people grabbing the scooters and more or less, \"Taking them for a spin,\" with no real purpose in mind other than to try them out. \n",
    "\n",
    "The city comissioned a survey and published that one in three trips replaced a car. I'd like to see how plausable that is with the data.\n",
    "https://www.cbc.ca/news/canada/calgary/calgary-e-scooter-report-1.5396846\n",
    "\n",
    "When cleaning the data, I added a column for \"aerial distance\" which is basically a straight line between the trip stating point and ending point. Those coordinates are anonamized, so the actual start and end points could be up to ~62m from the point in the dataset. So the actual aerial distance traveled is +/- ~124m.\n",
    "\n",
    "I used Principal Component Analysis (PCA) on distance traveled, trip time and aerial distance to see if any interesting observations emerged."
   ]
  },
  {
   "cell_type": "code",
   "execution_count": null,
   "metadata": {},
   "outputs": [],
   "source": [
    "scooter_sample = scooter.sample(frac=0.01) # Use sample so points are actually visible\n",
    "\n",
    "# Columns for pca\n",
    "pca_cols=['trip_distance', 'trip_duration', 'a_dist'] \n",
    "\n",
    "# Scale data and convert back to a DataFrame\n",
    "scale = StandardScaler()\n",
    "df_scaled = scale.fit_transform(scooter_sample[pca_cols])\n",
    "df_scaled = pd.DataFrame(df_scaled) \n",
    "df_scaled.columns = [pca_cols]\n",
    "\n",
    "# Run PCA on the feature set dataframe\n",
    "pca = PCA(n_components = 2)\n",
    "principle_components = pca.fit_transform(df_scaled)\n",
    "\n",
    "# Stick back into a DataFrame \n",
    "df_pca = pd.DataFrame(principle_components)\n",
    "df_pca.columns = ['pc1','pc2']\n",
    "df_pca = pd.DataFrame(scale.fit_transform(df_pca))\n",
    "df_pca.columns = ['pc1', 'pc2']\n"
   ]
  },
  {
   "cell_type": "code",
   "execution_count": null,
   "metadata": {},
   "outputs": [],
   "source": [
    "# Plot using the Principle Components as Axes\n",
    "sns.lmplot('pc1', 'pc2', df_pca, fit_reg=False, height=8)\n",
    "\n",
    "# set the maximum variance of the first two PCs\n",
    "# this will be the end point of the arrow of each **original feature**\n",
    "xvector = pca.components_[0]\n",
    "yvector = pca.components_[1]\n",
    " \n",
    "# value of the first two PCs, set the x, y axis boundary\n",
    "xs = pca.transform(df_scaled)[:,0]\n",
    "ys = pca.transform(df_scaled)[:,1]\n",
    "\n",
    "# label countries\n",
    "# for row in range(0,df_pca.shape[0]):\n",
    "#      plt.text(df_pca.pc1[row]+0.01, df_pca.pc2[row], \n",
    "#      df_pca.country[row], horizontalalignment='left', \n",
    "#      size='small', color='grey', weight='light')\n",
    "\n",
    "# arrows project features (columns from csv) as vectors onto PC axes\n",
    "for i in range(len(xvector)):\n",
    "    plt.arrow(0, 0, xvector[i]*max(xs), yvector[i]*max(ys),\n",
    "              color='r', width=0.005, head_width=0.05)\n",
    "    plt.text(xvector[i]*max(xs)*1.1, yvector[i]*max(ys)*1.1,\n",
    "             list(scooter_sample[pca_cols].columns.values)[i], color='r')\n",
    "\n",
    "plt.annotate(\"Productive Trips\", xy=(6,6)) \n",
    "plt.annotate('\"Joy Rides!\"', xy=(4,-4)) \n",
    "plt.title('PCA of Scooter Trip Data')\n",
    "plt.show()"
   ]
  },
  {
   "cell_type": "markdown",
   "metadata": {},
   "source": [
    "I called trips migrating towards the top right of this plot \"Productive\" trips as the aerial distance increases as trip distance increases. Trips in the lower half of the chart I call \"Joy Rides\" as the trip duration and distance is increasing, but the aerial distance is relatively low. This would represent a trip where someone started and ended at roughly the same place.\n",
    "\n",
    "As expected, most trips are actually relatively short in duration and distance.\n",
    "\n",
    "A metric \"Trip Efficiency\" is calculated as the ratio of aerial distance to measured trip distance. Theoretically the maximum for this metric should be 1, but due to the inaccuracy of the start and end point, sometimes it is >1. Also in theory if the scooter was being carried, or on the train etc, this ratio could be >1.\n",
    "\n",
    "\n",
    "Below is a historgram of trip efficiency for a sample of scooter rentals:"
   ]
  },
  {
   "cell_type": "code",
   "execution_count": null,
   "metadata": {},
   "outputs": [],
   "source": [
    "hist_fig2 = px.histogram(scooter.sample(frac=0.05), x='travel_efficiency', histnorm='probability', marginal = 'box',\n",
    "                         title='Sample Distribution of Travel Efficiency of Scooter Rentals (Fraction of Rentals)', \n",
    "                         labels={'travel_efficiency':'Aerial Distance/Trip Distance'},\n",
    "                         nbins=100)\n",
    "hist_fig2.show()"
   ]
  },
  {
   "cell_type": "markdown",
   "metadata": {},
   "source": [
    "We see that the most popular range for trip efficiency is in the 0.4-0.9 range, which is probably about as expected if you were actually using the scooter to go somewhere.\n",
    "\n",
    "That said there are also a lot of trips with low travel efficiencies. I'd speculate these were more \"just for fun\" rides."
   ]
  },
  {
   "cell_type": "markdown",
   "metadata": {},
   "source": [
    "## Classifying Trips\n",
    "\n",
    "The original question was: What fraction of trips could plausably have replaced a trip with a car?\n",
    "\n",
    "I'll use some *completely made up qualifiers* to decide if the trip could have replaced a car. We'll assume your average millenial (did I mention I'm making this up) walks at 1.35m/s https://www.healthline.com/health/exercise-fitness/average-walking-speed#average-speed-by-age. \n",
    "\n",
    "If you don't like my assumptions, feel free to substitute your own.\n",
    "\n",
    "Qualifier are:\n",
    "\n",
    "1) Trip distance must be >810m which is about a 10 min walk. Yes some people take cars for shorter trips (we call them lazy) but indulge me.\n",
    "2) Travel efficiency must be >0.3. If you're meandering more than that, I'm guessing you probably are just out for a ride.\n",
    "\n",
    "That gives me approximately half of trips possibly could replace a car, so the 1 in 3 seems plausable."
   ]
  },
  {
   "cell_type": "code",
   "execution_count": null,
   "metadata": {},
   "outputs": [],
   "source": [
    "# Calculation for above\n",
    "car_test = scooter[(scooter.trip_distance > 810) & \n",
    "                   (scooter.travel_efficiency>0.3)].start_date.count()/scooter.start_date.count()\n",
    "print(\"Fraction of trips that could have replaced a car: \", round(car_test,3)*100, \"%\")"
   ]
  },
  {
   "cell_type": "markdown",
   "metadata": {},
   "source": [
    "If you don't like my assumptions for minimum distance and efficiency threshold, feel free to use the following chart to look up the fraction of trips that could have replaced a car, based on your own assumptions."
   ]
  },
  {
   "cell_type": "code",
   "execution_count": null,
   "metadata": {},
   "outputs": [],
   "source": [
    "# do it on a range of inputs\n",
    "\n",
    "lazy_threshold = np.arange(100, 1600, 100).tolist()\n",
    "car_trips = []\n",
    "travel_eff = np.arange(.1, 1, 0.1).tolist()\n",
    "\n",
    "\n",
    "for thresh in lazy_threshold:\n",
    "    for eff in travel_eff:\n",
    "        car_trips.append(scooter[(scooter.trip_distance > thresh) & \n",
    "                            (scooter.travel_efficiency>eff)].start_date.count()/scooter.start_date.count())\n",
    "        \n",
    "car_df = pd.DataFrame(zip(travel_eff*len(lazy_threshold),\n",
    "                      [item for item in lazy_threshold for i in range(len(travel_eff))], car_trips))\n",
    "\n",
    "line_fig5 = px.line(car_df, x=0, y=2, animation_frame=1, title = \"Fraction of Trips That Could Replace a Car\",\n",
    "        labels={\"0\":\"Minimum Travel Efficiency\", \"1\":\"Minimum Distance Threshold\", \"2\":\"Fraction of Trips\"})\n",
    "line_fig5.show()"
   ]
  },
  {
   "cell_type": "markdown",
   "metadata": {},
   "source": [
    "## Bonus Analysis\n",
    "\n",
    "According the the City of Calgary's website the maximum speed of the scooters is 20km/h. https://www.calgary.ca/Transportation/TP/Pages/Cycling/Cycling-Strategy/Shared-electric-scooter-pilot.aspx?redirect=/scootershare\n",
    "\n",
    "Looking at the data it appears that some people were able to achieve higher average speeds in practice. "
   ]
  },
  {
   "cell_type": "code",
   "execution_count": null,
   "metadata": {},
   "outputs": [],
   "source": [
    "hist_fig3 = px.histogram(scooter.sample(frac=0.05), x='speed', nbins=100, histnorm='probability', marginal = 'box',\n",
    "                         title='Sample Distribution of Average Scooter Speed (Full Trip)', \n",
    "                         labels={'count': 'Percent of Total Rentals', 'speed':'Average Speed (km/h)'},\n",
    "                         range_x=(0,40))\n",
    "hist_fig3.show()"
   ]
  },
  {
   "cell_type": "markdown",
   "metadata": {},
   "source": [
    "## Conclusions\n",
    "\n",
    "It's hard to argue that the e-scooter were quite popular in Calgary. It's no surprize that they will continue next year, while e-bike rentals will not return (At least for Lime).\n",
    "\n",
    "Rentals cover much of the city with most in the central downtown area. \n",
    "\n",
    "We don't know all the details of the business model, but the revenue potential is certainly there. While there were certainly many novelty rides, it does look like people were using the scooters to actually travel places. This bodes well for the sustainability of the business model.\n",
    "\n"
   ]
  },
  {
   "cell_type": "markdown",
   "metadata": {},
   "source": [
    "## References\n",
    "\n",
    "* https://data.calgary.ca/Transportation-Transit/Shared-Mobility-Pilot-Trips/jicz-mxiz\n",
    "* https://climate.weather.gc.ca/\n",
    "* https://calgaryherald.com/news/lime-says-bye-bye-to-bikes-in-calgary-will-bring-back-e-scooters\n",
    "* https://dailyhive.com/calgary/calgary-events-september-20-22-2019\n",
    "* https://www.visitcalgary.com/things-to-do/festivals/beakerhead\n",
    "* https://dailyhive.com/calgary/lime-scooters-calgary-how-to-guide-2019\n",
    "* https://www.healthline.com/health/exercise-fitness/average-walking-speed#average-speed-by-age\n",
    "* https://www.cbc.ca/news/canada/calgary/calgary-e-scooter-report-1.5396846\n"
   ]
  },
  {
   "cell_type": "code",
   "execution_count": null,
   "metadata": {},
   "outputs": [],
   "source": []
  },
  {
   "cell_type": "code",
   "execution_count": null,
   "metadata": {},
   "outputs": [],
   "source": []
  },
  {
   "cell_type": "code",
   "execution_count": null,
   "metadata": {},
   "outputs": [],
   "source": []
  }
 ],
 "metadata": {
  "kernelspec": {
   "display_name": "Python 3",
   "language": "python",
   "name": "python3"
  },
  "language_info": {
   "codemirror_mode": {
    "name": "ipython",
    "version": 3
   },
   "file_extension": ".py",
   "mimetype": "text/x-python",
   "name": "python",
   "nbconvert_exporter": "python",
   "pygments_lexer": "ipython3",
   "version": "3.7.4"
  }
 },
 "nbformat": 4,
 "nbformat_minor": 2
}
